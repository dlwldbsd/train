{
  "nbformat": 4,
  "nbformat_minor": 0,
  "metadata": {
    "colab": {
      "provenance": [],
      "authorship_tag": "ABX9TyOhNUht4ut5UNHogLnTFzT0",
      "include_colab_link": true
    },
    "kernelspec": {
      "name": "python3",
      "display_name": "Python 3"
    },
    "language_info": {
      "name": "python"
    }
  },
  "cells": [
    {
      "cell_type": "markdown",
      "metadata": {
        "id": "view-in-github",
        "colab_type": "text"
      },
      "source": [
        "<a href=\"https://colab.research.google.com/github/dlwldbsd/train/blob/main/XML_%EB%8D%B0%EC%9D%B4%ED%84%B0_%EB%8B%A4%EB%A3%A8%EA%B8%B0.ipynb\" target=\"_parent\"><img src=\"https://colab.research.google.com/assets/colab-badge.svg\" alt=\"Open In Colab\"/></a>"
      ]
    },
    {
      "cell_type": "markdown",
      "source": [
        "###인증키 : 21998e4c7c2a7d34408432f6a860d991cb0d782975608558902a2b1a98414919"
      ],
      "metadata": {
        "id": "6EBtGV3a2NC2"
      }
    },
    {
      "cell_type": "code",
      "execution_count": null,
      "metadata": {
        "id": "h9C9-qOp2ImO"
      },
      "outputs": [],
      "source": [
        "key = \"\"\"\n",
        "<book>\n",
        "  <name>나은찬</name>\n",
        "  <school>신성여고</school>\n",
        "  <year>2023</year>\n",
        "</book>\n",
        "\"\"\""
      ]
    },
    {
      "cell_type": "code",
      "source": [
        "import xml.etree.ElementTree as et\n",
        "x = et.fromstring(key)"
      ],
      "metadata": {
        "id": "Q-TG-DZl4bxo"
      },
      "execution_count": null,
      "outputs": []
    },
    {
      "cell_type": "code",
      "source": [
        "type(x)"
      ],
      "metadata": {
        "colab": {
          "base_uri": "https://localhost:8080/"
        },
        "id": "Njphbkib5JXg",
        "outputId": "24b9a417-1714-4090-fbe6-1345ee6afef7"
      },
      "execution_count": null,
      "outputs": [
        {
          "output_type": "execute_result",
          "data": {
            "text/plain": [
              "xml.etree.ElementTree.Element"
            ]
          },
          "metadata": {},
          "execution_count": 5
        }
      ]
    },
    {
      "cell_type": "code",
      "source": [
        "x.tag #부모의 이름"
      ],
      "metadata": {
        "colab": {
          "base_uri": "https://localhost:8080/",
          "height": 36
        },
        "id": "x2rREnlw5Lx-",
        "outputId": "cfe2d7fc-6908-44e4-8038-744d1296feb4"
      },
      "execution_count": null,
      "outputs": [
        {
          "output_type": "execute_result",
          "data": {
            "text/plain": [
              "'book'"
            ],
            "application/vnd.google.colaboratory.intrinsic+json": {
              "type": "string"
            }
          },
          "metadata": {},
          "execution_count": 7
        }
      ]
    },
    {
      "cell_type": "markdown",
      "source": [
        "---------------------"
      ],
      "metadata": {
        "id": "_XgZ0NP46_sm"
      }
    },
    {
      "cell_type": "markdown",
      "source": [
        "우리는 xml 처리 x -> 문자열로 바꾸자!\n",
        "\n",
        "라이브러리 함수 선언 -> 리스트 or 명령어\n",
        "\n"
      ],
      "metadata": {
        "id": "bpi_2wMk6MTa"
      }
    },
    {
      "cell_type": "code",
      "source": [
        "#리스트\n",
        "x_child = list(x)\n",
        "x_child"
      ],
      "metadata": {
        "colab": {
          "base_uri": "https://localhost:8080/"
        },
        "id": "NbF_EF666F-j",
        "outputId": "206caa24-5a5b-40ea-b693-f60ffb6313e7"
      },
      "execution_count": null,
      "outputs": [
        {
          "output_type": "execute_result",
          "data": {
            "text/plain": [
              "[<Element 'name' at 0x78d8bd345ad0>,\n",
              " <Element 'school' at 0x78d8bd345e40>,\n",
              " <Element 'year' at 0x78d8bd345b70>]"
            ]
          },
          "metadata": {},
          "execution_count": 12
        }
      ]
    },
    {
      "cell_type": "code",
      "source": [
        "name, school, year = x\n",
        "print(name.text)\n",
        "print(school.text)\n",
        "print(year.text)"
      ],
      "metadata": {
        "colab": {
          "base_uri": "https://localhost:8080/"
        },
        "id": "H38BFZ7p6LG6",
        "outputId": "a3510f5d-392a-44d3-a7fb-537526c0f9e5"
      },
      "execution_count": null,
      "outputs": [
        {
          "output_type": "stream",
          "name": "stdout",
          "text": [
            "나은찬\n",
            "신성여고\n",
            "2023\n"
          ]
        }
      ]
    },
    {
      "cell_type": "code",
      "source": [
        "#함수\n",
        "name = x.findtext('name')\n",
        "school = x.findtext('school')\n",
        "year = x.findtext('year')\n",
        "print(name, school, year)"
      ],
      "metadata": {
        "colab": {
          "base_uri": "https://localhost:8080/"
        },
        "id": "e9YsoutU6iME",
        "outputId": "3675d801-3462-4990-f40a-3cf60729f194"
      },
      "execution_count": null,
      "outputs": [
        {
          "output_type": "stream",
          "name": "stdout",
          "text": [
            "나은찬 신성여고 2023\n"
          ]
        }
      ]
    },
    {
      "cell_type": "markdown",
      "source": [
        "------------------------"
      ],
      "metadata": {
        "id": "a7n7Bnss7ICd"
      }
    }
  ]
}